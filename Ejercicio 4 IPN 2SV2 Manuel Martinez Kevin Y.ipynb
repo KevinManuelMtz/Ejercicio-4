{
  "nbformat": 4,
  "nbformat_minor": 0,
  "metadata": {
    "colab": {
      "name": "Untitled0.ipynb",
      "provenance": [],
      "collapsed_sections": []
    },
    "kernelspec": {
      "name": "python3",
      "display_name": "Python 3"
    }
  },
  "cells": [
    {
      "cell_type": "code",
      "metadata": {
        "id": "ojRQenlTU7I-",
        "outputId": "1efb374e-8ccb-4a7c-ed0b-e99db2c3fe02",
        "colab": {
          "base_uri": "https://localhost:8080/"
        }
      },
      "source": [
        "print(\"Calculadora Didactica\")\n",
        "print(\"1-.Suma\")\n",
        "print(\"2-.Resta\")\n",
        "print(\"3-.Multiplicacion\")\n",
        "print(\"4-.Division\")\n",
        "opc = int(input(\"Introduza una opcion :\"))\n",
        "if (opc == 1):\n",
        " a = float(input(\"Ingrese el valor de a :\"))\n",
        " b = float(input(\"Ingrese el valor de b :\"))\n",
        " s = (a+b)\n",
        " print(\"el valor de la suma es : \",s,)\n",
        "elif (opc == 2):\n",
        " a = float(input(\"Ingrese el valor de a :\"))\n",
        " b = float(input(\"Ingrese el valor de b :\"))\n",
        " r = (a-b)\n",
        " print(\"el valor de la resta es : \",r,)\n",
        "elif (opc == 3):\n",
        " a = float(input(\"Ingrese el valor de a :\"))\n",
        " b = float(input(\"Ingrese el valor de b :\"))\n",
        " m = (a*b)\n",
        " print(\"El Valor de Multiplicacion es :\",m,)\n",
        "elif (opc == 4): \n",
        "  a = float(input(\"Ingrese el valor del denominador :\")) \n",
        "  b = float(input(\"Ingrese el valor del divisor :\")) \n",
        "  while (b == 0):\n",
        "    print(\"Error, no se puede dividir entre 0 bb\")\n",
        "    a = float(input(\"Ingrese el valor del denominador :\")) \n",
        "    b = float(input(\"Ingrese el valor del divisor :\")) \n",
        "    d = (a/b)\n",
        "    print(\"El valor de la division es\",d,) \n",
        "\n",
        "  d = (a/b)\n",
        "  print(\"El valor de la division es\",d,)"
      ],
      "execution_count": 166,
      "outputs": [
        {
          "output_type": "stream",
          "text": [
            "Calculadora Didactica\n",
            "1-.Suma\n",
            "2-.Resta\n",
            "3-.Multiplicacion\n",
            "4-.Division\n",
            "Introduza una opcion :4\n",
            "Ingrese el valor del denominador :10\n",
            "Ingrese el valor del divisor :0\n",
            "Error, no se puede dividir entre 0 bb\n",
            "Ingrese el valor del denominador :0\n",
            "Ingrese el valor del divisor :1\n",
            "El valor de la division es 0.0\n",
            "El valor de la division es 0.0\n"
          ],
          "name": "stdout"
        }
      ]
    }
  ]
}